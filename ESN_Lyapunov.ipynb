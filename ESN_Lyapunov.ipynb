{
 "cells": [
  {
   "cell_type": "code",
   "execution_count": 1,
   "metadata": {},
   "outputs": [
    {
     "data": {
      "text/plain": [
       "'/home/tah/Documents/Computation_EOC/esn-neuroevolution'"
      ]
     },
     "execution_count": 1,
     "metadata": {},
     "output_type": "execute_result"
    }
   ],
   "source": [
    "import sys\n",
    "import tensorflow as tf\n",
    "import numpy as np\n",
    "import matplotlib.pyplot as plt\n",
    "from pylab import *\n",
    "import pandas as pd\n",
    "import seaborn as sns\n",
    "\n",
    "from ESN_Cell import *\n",
    "from ddeint import ddeint\n",
    "\n",
    "import os\n",
    "os.getcwd()"
   ]
  },
  {
   "cell_type": "code",
   "execution_count": 2,
   "metadata": {},
   "outputs": [],
   "source": [
    "tf.reset_default_graph()"
   ]
  },
  {
   "cell_type": "code",
   "execution_count": 3,
   "metadata": {},
   "outputs": [],
   "source": [
    "model = lambda X,t,beta,n,tau,gamma : beta*((X(t-tau))/(1 + X(t-tau)**n)) - gamma*X(t)\n",
    "\n",
    "X_0 = lambda t:0.5 # history before t=0\n",
    "\n",
    "X_ts = {}\n",
    "\n",
    "bifurcation_para = [10]\n",
    "\n",
    "for i, n in enumerate(bifurcation_para):\n",
    "    t = linspace(0,100,10000)\n",
    "    X_t = ddeint(model, X_0, t, fargs=(2, n, 2, 1)) #beta=2, n=n, tau=2, gamma=1\n",
    "    X_ts[n] = X_t "
   ]
  },
  {
   "cell_type": "code",
   "execution_count": 4,
   "metadata": {},
   "outputs": [],
   "source": [
    "tf.set_random_seed(12)\n",
    "\n",
    "res_units = 100\n",
    "in_units = 1\n",
    "ESN_arch = [in_units, res_units]\n",
    "\n",
    "leak_rate = tf.placeholder(tf.float64, shape=())\n",
    "activation = tf.tanh\n",
    "weights_variance = 0.1\n",
    "sparseness = True\n",
    "sparsity = 0.1\n",
    "\n",
    "#length of discarded transient\n",
    "init_transient = 999\n",
    "\n",
    "#length of input series\n",
    "len_in = 3000"
   ]
  },
  {
   "cell_type": "code",
   "execution_count": 5,
   "metadata": {},
   "outputs": [],
   "source": [
    "len_ts = len(X_ts[10])\n",
    "\n",
    "X_ts_ = {}\n",
    "\n",
    "for _,n in enumerate(X_ts):\n",
    "    X_ts_[n] = np.reshape(X_ts[n], [1, len_ts, in_units]) #reshaped to: [batch_size, time, in_units]"
   ]
  },
  {
   "cell_type": "code",
   "execution_count": 9,
   "metadata": {},
   "outputs": [
    {
     "ename": "SyntaxError",
     "evalue": "positional argument follows keyword argument (<ipython-input-9-ed93bb3ac544>, line 6)",
     "output_type": "error",
     "traceback": [
      "\u001b[0;36m  File \u001b[0;32m\"<ipython-input-9-ed93bb3ac544>\"\u001b[0;36m, line \u001b[0;32m6\u001b[0m\n\u001b[0;31m    esn_1 = ESN(ESN_arch, name=name1, activation, leak_rate, weights_variance, sparsity, sparseness)\u001b[0m\n\u001b[0m                                     ^\u001b[0m\n\u001b[0;31mSyntaxError\u001b[0m\u001b[0;31m:\u001b[0m positional argument follows keyword argument\n"
     ]
    }
   ],
   "source": [
    "name1 = 'esn_1'\n",
    "name2 = 'esn_2'\n",
    "\n",
    "\n",
    "# Initialize the two networks\n",
    "esn_1 = ESN(ESN_arch, name1, activation, leak_rate, weights_variance, sparsity, sparseness)\n",
    "esn_2 = ESN(ESN_arch, name2, activation, leak_rate, weights_variance, sparsity, sparseness)\n",
    "\n",
    "# List for distances between esn_1 and esn_2 for each timestep of input\n",
    "dist_esn_1_2 = []\n",
    "\n",
    "#Placeholders for input, initial state and perturbed neuron\n",
    "inputs = tf.placeholder(tf.float64, [1, len_in, in_units], name='esn_input')\n",
    "init_state = tf.placeholder(tf.float64, [1, res_units], name='init_state')\n",
    "pert_neuron = tf.placeholder(tf.int32, shape=(), name='PerturbedNeuron')"
   ]
  },
  {
   "cell_type": "code",
   "execution_count": null,
   "metadata": {},
   "outputs": [],
   "source": [
    "outputs_1,_ = tf.nn.dynamic_rnn(esn_1, inputs, initial_state=init_state, dtype= tf.float64)\n",
    "print(outputs_1.shape)\n",
    "\n",
    "outputs_1 = tf.reshape(outputs_1, [len_in, res_units])"
   ]
  },
  {
   "cell_type": "code",
   "execution_count": null,
   "metadata": {},
   "outputs": [],
   "source": [
    "initial = tf.Variable(outputs_1[init_transient,:], tf.float64) # Initial State\n",
    "\n",
    "# d_0 is the perturbation magnitude of order 1e-8\n",
    "d_0 = tf.random.normal([], mean=1e-8, stddev=1e-10, dtype=tf.float64)\n",
    "\n",
    "#Perturbing 'pert_neuron'\n",
    "init_esn_2 = tf.assign(initial[pert_neuron], d_0)\n",
    "init_esn_2 = tf.expand_dims(init_esn_2, axis=0) # dims: (1,100)\n",
    "initial = tf.expand_dims(initial, axis=0) # dims: (1,100)"
   ]
  },
  {
   "cell_type": "code",
   "execution_count": null,
   "metadata": {},
   "outputs": [],
   "source": [
    "for step in range(1, len_in-init_transient-1950):\n",
    "    \n",
    "    # one timestep Input for esn_2 \n",
    "    in_esn_2 = tf.expand_dims(inputs[:,init_transient+step,:], axis=0) # dims: [1,1,1]\n",
    "\n",
    "    # output of esn_1\n",
    "    out_esn_1 = tf.expand_dims(outputs_1[init_transient+step,:], axis=0) # dims: [1,100]\n",
    "    \n",
    "    # output of esn_2\n",
    "    _, out_esn_2 = tf.nn.dynamic_rnn(esn_2, in_esn_2, initial_state=init_esn_2) # dims: [1,100]\n",
    "    \n",
    "    # Euclidean distance between esn_1 and esn_2 after 1 timestep\n",
    "    d_1 = tf.norm(out_esn_1-out_esn_2)\n",
    "    dist_esn_1_2.append(d_1)\n",
    "    \n",
    "    # Normalizing the state of esn_2 to the distance d_0 \n",
    "    # for next iteration over the next input timestep\n",
    "    init_esn_2 = tf.add(out_esn_1, tf.scalar_mul((d_0/d_1),tf.subtract(out_esn_2, out_esn_1)))\n"
   ]
  },
  {
   "cell_type": "code",
   "execution_count": null,
   "metadata": {},
   "outputs": [],
   "source": [
    "esn_input = X_ts_[10][:, :len_in, :] # of shape: [1, len_in, in_units]\n",
    "\n",
    "plt.plot(np.linspace(0,30,3000), esn_input[0])\n",
    "plt.show()"
   ]
  },
  {
   "cell_type": "code",
   "execution_count": null,
   "metadata": {},
   "outputs": [],
   "source": [
    "df_all_neurons = []\n",
    "alpha = 0.25\n",
    "\n",
    "with tf.Session() as sess:\n",
    "    \n",
    "    for p_neuron in range(res_units):\n",
    "        \n",
    "        sess.run(tf.global_variables_initializer())\n",
    "        \n",
    "        init_esn_state = np.zeros([1, res_units], dtype=\"float64\")\n",
    "        \n",
    "        #p_neuron = int32(p_neuron)\n",
    "        print(type(p_neuron))\n",
    "        \n",
    "        dist, initial, init_esn_2 = sess.run([dist_esn_1_2, initial, init_esn_2], \\\n",
    "                                              feed_dict={leak_rate: alpha,\\\n",
    "                                                         inputs:esn_input,\\\n",
    "                                                         init_state:init_esn_state,\\\n",
    "                                                         pert_neuron:p_neuron})\n",
    "        \n",
    "        # Calculating the initial perturbation d_0\n",
    "        # for 'pert_neuron'\n",
    "        initial_pert = tf.norm(initial-init_esn_2)\n",
    "        \n",
    "        avg_dist = np.mean(dist)\n",
    "        \n",
    "        df = pd.DataFrame(columns=['Perturbed_Neuron','Initial_Perturbation','Avg_Dist'])\n",
    "        df.loc[p_neuron+1] = [p_neuron+1, initial_pert, avg_dist]\n",
    "        df_all_neurons.append(df)"
   ]
  },
  {
   "cell_type": "code",
   "execution_count": null,
   "metadata": {},
   "outputs": [],
   "source": []
  }
 ],
 "metadata": {
  "kernelspec": {
   "display_name": "Python 3",
   "language": "python",
   "name": "python3"
  },
  "language_info": {
   "codemirror_mode": {
    "name": "ipython",
    "version": 3
   },
   "file_extension": ".py",
   "mimetype": "text/x-python",
   "name": "python",
   "nbconvert_exporter": "python",
   "pygments_lexer": "ipython3",
   "version": "3.6.7"
  }
 },
 "nbformat": 4,
 "nbformat_minor": 2
}
